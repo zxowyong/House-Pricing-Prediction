{
 "cells": [
  {
   "cell_type": "markdown",
   "metadata": {},
   "source": [
    "# MIPANSUSUSU \n",
    "\n",
    "## Contents\n",
    "- [Packages](#section1)\n",
    "- [Datasets Cleaning](#section2)\n",
    "    - [HDB Resale 2020 gov.sg](#subsection2.1)\n",
    "    - [Import Cleaned Datasets](#subsection2.2)\n",
    "- [General Functions](#section3)"
   ]
  },
  {
   "cell_type": "markdown",
   "metadata": {},
   "source": [
    "## Packages<a id=\"section2\"></a>"
   ]
  },
  {
   "cell_type": "code",
   "execution_count": 1,
   "metadata": {},
   "outputs": [],
   "source": [
    "import json\n",
    "import requests\n",
    "import pandas as pd\n",
    "import numpy as np\n",
    "import matplotlib.pyplot as plt\n",
    "import urllib  "
   ]
  },
  {
   "cell_type": "markdown",
   "metadata": {},
   "source": [
    "## Datasets Cleaning<a id=\"section1\"></a>\n",
    "\n",
    "We first begin by cleaning raw data sets in order to consolidate related data, as well as process data for later data visualisation and data processing.\n",
    "\n",
    "<div class=\"alert alert-block alert-success\">\n",
    "<b>List of Key Datasets:</b> \n",
    "The Key Datasets we will be using are summarised below (alongside links to online data files if applicable)\n",
    "  <li><b><a href=\"https://data.gov.sg/dataset/resale-flat-prices\">HDB Resale Data</a></b>: Resale price, town, blk, street_name, postal code, longitude and latitude of HDB blocks</li>\n",
    "  <li><b>Malls</b>: years of education</li>\n",
    "  <li><b>MRT</b>: years of potential experience</li>\n",
    "  <li><b>Buses</b>: genders of these working individuals</li>\n",
    "</div> \n",
    "\n",
    "<a href=\"https://docs.onemap.sg/#search\">OneMap API</a> was utilised in mapping corresponding latitude and longitude data to respective locations.\n",
    "\n",
    "Due to the length of time taken to query onemap's API to attain geolocation data, we have prerun the queries and exported the data into a csv file for any later data processing and visualisation. The below variable has been set to 'False' to prevent rerunning of those specific queries when restarting the kernel"
   ]
  },
  {
   "cell_type": "code",
   "execution_count": 2,
   "metadata": {},
   "outputs": [],
   "source": [
    "rerun = True"
   ]
  },
  {
   "cell_type": "markdown",
   "metadata": {},
   "source": [
    "### HDB Resale 2020 gov.sg<a id=\"subsection2.1\"></a>"
   ]
  },
  {
   "cell_type": "code",
   "execution_count": 3,
   "metadata": {},
   "outputs": [],
   "source": [
    "HDB_coordinates = pd.read_csv(\"HDB_coordinates.csv\")\n",
    "HDV_resale_2020_raw = pd.read_csv(\"resale_flat_prices_2017_2020.csv\")\n",
    "HDB_resale_2020 = resale.merge(coordinates, how='inner', left_on=['town','block'], right_on=['town','block'])"
   ]
  },
  {
   "cell_type": "code",
   "execution_count": null,
   "metadata": {},
   "outputs": [],
   "source": [
    "#export the full dataframe for hdb with longitude and latitudes into csv\n",
    "HDB_resale_2020.to_csv('HDBresale2020.csv')"
   ]
  },
  {
   "cell_type": "markdown",
   "metadata": {},
   "source": [
    "### Import Cleaned Datasets<a id=\"subsection2.2\"></a>"
   ]
  },
  {
   "cell_type": "markdown",
   "metadata": {},
   "source": [
    "## General Functions<a id=\"section3\"></a>"
   ]
  },
  {
   "cell_type": "code",
   "execution_count": null,
   "metadata": {},
   "outputs": [],
   "source": [
    "#calculate distance between two pairs of lat and long\n",
    "def distance(x1,y1,x2,y2):\n",
    "    R = 6373.0\n",
    "    lat1 = radians(x1)\n",
    "    lon1 = radians(y1)\n",
    "    lat2 = radians(x2)\n",
    "    lon2 = radians(y2)\n",
    "    dlon = lon2 - lon1\n",
    "    dlat = lat2 - lat1\n",
    "    a = (sin(dlat/2))**2 + cos(lat1)*cos(lat2)*(sin(dlon/2))**2\n",
    "    c = 2* atan2(sqrt(a), sqrt(1-a))\n",
    "    dist = R * c\n",
    "    return dist"
   ]
  },
  {
   "cell_type": "code",
   "execution_count": null,
   "metadata": {},
   "outputs": [],
   "source": []
  }
 ],
 "metadata": {
  "kernelspec": {
   "display_name": "Python 3",
   "language": "python",
   "name": "python3"
  },
  "language_info": {
   "codemirror_mode": {
    "name": "ipython",
    "version": 3
   },
   "file_extension": ".py",
   "mimetype": "text/x-python",
   "name": "python",
   "nbconvert_exporter": "python",
   "pygments_lexer": "ipython3",
   "version": "3.8.3"
  }
 },
 "nbformat": 4,
 "nbformat_minor": 4
}
